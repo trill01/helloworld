{
  "nbformat": 4,
  "nbformat_minor": 0,
  "metadata": {
    "colab": {
      "name": "CAI SIYAO - Mario Guess.ipynb",
      "provenance": [],
      "collapsed_sections": [],
      "include_colab_link": true
    },
    "kernelspec": {
      "name": "python3",
      "display_name": "Python 3"
    },
    "language_info": {
      "name": "python"
    }
  },
  "cells": [
    {
      "cell_type": "markdown",
      "metadata": {
        "id": "view-in-github",
        "colab_type": "text"
      },
      "source": [
        "<a href=\"https://colab.research.google.com/github/trill01/helloworld/blob/master/CAI_SIYAO_Mario_Guess.ipynb\" target=\"_parent\"><img src=\"https://colab.research.google.com/assets/colab-badge.svg\" alt=\"Open In Colab\"/></a>"
      ]
    },
    {
      "cell_type": "code",
      "execution_count": 28,
      "metadata": {
        "id": "l_q7pIutZY6m"
      },
      "outputs": [],
      "source": [
        "# from google.colab import drive\n",
        "# drive.mount(\"/content/drive\")\n",
        "\n",
        "# import os\n",
        "# os.chdir(\"/content/drive/My Drive/Colab Notebooks/FunctionEx\")\n"
      ]
    },
    {
      "cell_type": "code",
      "execution_count": 29,
      "metadata": {
        "id": "owJYOZLnEIZP"
      },
      "outputs": [],
      "source": [
        "# !pip install -q mediapy\n",
        "# import mediapy as media\n",
        "# import random\n",
        "# from IPython.display import clear_output\n",
        "\n",
        "# mario = media.read_image(\"mario.png\")\n",
        "# bomb = media.read_image(\"bomb.png\")\n",
        "# mushroom = media.read_image(\"mushroom.png\")\n",
        "# question = media.read_image(\"question.png\")\n",
        "# flower = media.read_image(\"flower.png\")\n",
        "# show = [question, question, question] \n",
        "guess = []\n"
      ]
    },
    {
      "cell_type": "code",
      "source": [
        "#Write all the self-defined functions here\n",
        "#Self-defined functions include: gen_guesses(), make_guess() and show_all()\n",
        "def show_all():\n",
        "  media.show_images({f'{i}': image for i, image in enumerate(show)})\n",
        "\n",
        "#Task A: assigns three values into guess[] which represent the answers in the three slots.\n",
        "#The values to be inserted should be strings. For example, 'mario', 'flower' or 'mushroom'.\n",
        "import random\n",
        "answers = [\"Mario\", \"Bomb\", \"Mushroom\", \"Flower\"]\n",
        "def gen_guesses():\n",
        "  guess.append(\"Mario\")\n",
        "  guess.append(\"Mushroom\")\n",
        "  guess.append(\"Flower\")\n",
        "\n",
        "#   for i in range(3):\n",
        "#     choice = random.choice(answers)\n",
        "#     guess.append(choice)\n",
        "# guess = []\n",
        "# gen_guesses()\n",
        "# print(guess)\n",
        "\n",
        "#Task D: Implement the make_guess()self-defined function\n",
        "#There are two parameters: s represents the slot number and c represents the guess from the player\n",
        "#check if the guess is made correctly. If yes , return a value 1 to the main program.\n",
        "#If the guess is wrong, it returns a value 0 to the main program.\n",
        "def make_guess(s, c):\n",
        "  name = \"\"\n",
        "  if c == 1:\n",
        "    name = \"Mario\"\n",
        "  elif c == 2:\n",
        "    name = \"Mushroom\"\n",
        "  elif c == 3:\n",
        "    name == \"Flower\"\n",
        "  print(s)\n",
        "  print(guess[s])\n",
        "  if guess[s] == name:\n",
        "    return 1\n",
        "  else:\n",
        "    return 0"
      ],
      "metadata": {
        "id": "vGQwmJgrEk9A"
      },
      "execution_count": 30,
      "outputs": []
    },
    {
      "cell_type": "code",
      "source": [
        "#Task B: Start a new game by generating new random values in guess[], use the self-defined function\n",
        "gen_guesses()\n",
        "#Assign a value to corr \n",
        "#The no. of correct answers\n",
        "corr = 0\n",
        "\n",
        "#Try to use show_all here. All three treasure boxes will be shown as no guess has been made yet.\n",
        "#print(show)\n",
        "# show_all()\n",
        "\n",
        "while corr != 3:\n",
        "  #Task C: Receive (an) input(s) from the game player\n",
        "  print(guess)\n",
        "  slotnumber = int(input(\"Input the slot number:\"))\n",
        "  answer = int(input(\"Input your guess: (1=Mario; 2=Mushroom; 3=Flower)\"))\n",
        "\n",
        "  #Bonus: Extra 3 marks if you can validate the input, ask the user to input again if they input something wrong\n",
        "  while slotnumber <0 or slotnumber >2 :\n",
        "    print(\"Please enter another number:\")\n",
        "    slotnumber = int(input(\"Input the slot number:\"))\n",
        "  while answer <1 or answer >3 :\n",
        "    print(\"Please enter another number:\")\n",
        "    answer = int(input(\"Input your guess: (1=Mario; 2=Mushroom; 3=Flower)\\n\"))\n",
        "\n",
        "  #Task E: Call make_guess() and see if this guess is a correct one\n",
        "  correct = make_guess(slotnumber, answer)\n",
        "\n",
        "  #Task F(i): Show a warning message if the guess is wrong\n",
        "  if correct == 0:\n",
        "    print(\"You made a wrong guess!\")\n",
        "\n",
        "  #Task F(ii): Increase the corr variable by 1 if the guess is a correct one\n",
        "  # Also change the slot of show[] into the correct image\n",
        "  # E.g. if the player guesses guess[0] correctly that it contains mario, change show[0] into mario\n",
        "  if correct == 1:\n",
        "    corr = corr + 1\n",
        "  # 2\n",
        "  #show[slotnumber] = name\n",
        "\n",
        "  #Task F(iii): Show all treasure boxes, including those opened or not opened\n",
        "  # show_all()\n",
        "  #print(show)\n",
        "  #clear_output(wait=True) #This line helps clear the result in the box below. You can use this to clear the output of the previous result\n",
        "\n",
        "#After all tasks have been implemented above, think which line(s) do you need to loop\n",
        "#It bases on your game design, you can choose either\n",
        "#a. giving a fixed number of chances\n",
        "#b. let the player makes guesses until all boxes are opened"
      ],
      "metadata": {
        "id": "EmRn_Gw66Y-7",
        "colab": {
          "base_uri": "https://localhost:8080/"
        },
        "outputId": "cb782141-cdfe-4f65-fd42-ccf3bb921143"
      },
      "execution_count": null,
      "outputs": [
        {
          "output_type": "stream",
          "name": "stdout",
          "text": [
            "['Mario', 'Mushroom', 'Flower']\n",
            "Input the slot number:0\n",
            "Input your guess: (1=Mario; 2=Mushroom; 3=Flower)1\n",
            "0\n",
            "Mario\n",
            "['Mario', 'Mushroom', 'Flower']\n",
            "Input the slot number:1\n",
            "Input your guess: (1=Mario; 2=Mushroom; 3=Flower)2\n",
            "1\n",
            "Mushroom\n",
            "['Mario', 'Mushroom', 'Flower']\n",
            "Input the slot number:2\n",
            "Input your guess: (1=Mario; 2=Mushroom; 3=Flower)3\n",
            "2\n",
            "Flower\n",
            "You made a wrong guess!\n",
            "['Mario', 'Mushroom', 'Flower']\n"
          ]
        }
      ]
    }
  ]
}